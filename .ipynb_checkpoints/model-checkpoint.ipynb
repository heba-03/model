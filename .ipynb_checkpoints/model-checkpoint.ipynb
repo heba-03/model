{
 "cells": [
  {
   "cell_type": "code",
   "execution_count": 1,
   "id": "487063de-7b91-4fc8-87fe-156e590da53c",
   "metadata": {},
   "outputs": [],
   "source": [
    "import librosa\n",
    "from transformers import Wav2Vec2ForCTC, Wav2Vec2Processor\n",
    "import torch"
   ]
  },
  {
   "cell_type": "code",
   "execution_count": 2,
   "id": "d2efdf50-0e5f-4ae3-8103-e05010aaa02c",
   "metadata": {},
   "outputs": [
    {
     "data": {
      "application/vnd.jupyter.widget-view+json": {
       "model_id": "acac0ed1804e4876aed245bb432b0977",
       "version_major": 2,
       "version_minor": 0
      },
      "text/plain": [
       "model.safetensors:  62%|######2   | 786M/1.26G [00:00<?, ?B/s]"
      ]
     },
     "metadata": {},
     "output_type": "display_data"
    },
    {
     "name": "stderr",
     "output_type": "stream",
     "text": [
      "Some weights of Wav2Vec2ForCTC were not initialized from the model checkpoint at facebook/wav2vec2-large-960h and are newly initialized: ['wav2vec2.masked_spec_embed']\n",
      "You should probably TRAIN this model on a down-stream task to be able to use it for predictions and inference.\n"
     ]
    }
   ],
   "source": [
    "model_name = \"facebook/wav2vec2-large-960h\"  # Change to any Wav2Vec2 speech-to-text model you prefer\n",
    "processor = Wav2Vec2Processor.from_pretrained(model_name) #normalizing the audio input and decoding the predicted output.\n",
    "model = Wav2Vec2ForCTC.from_pretrained(model_name)        #predict the transcription of the audio file."
   ]
  },
  {
   "cell_type": "code",
   "execution_count": null,
   "id": "2d8f700d-7b52-420c-9f0d-41af3c7d0268",
   "metadata": {},
   "outputs": [],
   "source": [
    "audio_file = ' '\n",
    "speech, sr = librosa.load(audio_file, sr=16000)  # sr: sample rate is 16kHz \n",
    "\n",
    "inputs = processor(speech, sampling_rate=sr, return_tensors=\"pt\", padding=True) # Prepare input for the model \n",
    "                                             #PyTorch tensors       Adds padding if necessary to ensure uniform input sizes.\n",
    "\n",
    "# Run the model for transcription\n",
    "with torch.no_grad(): #This ensures that no gradients are calculated (since we aren't training)\n",
    "    logits = model(**inputs).logits"
   ]
  },
  {
   "cell_type": "code",
   "execution_count": null,
   "id": "24c1e1ba-c5f3-4f30-ba6e-532af0d5a919",
   "metadata": {},
   "outputs": [],
   "source": [
    "# Decode the logits to text\n",
    "predicted_ids = torch.argmax(logits, dim=-1)\n",
    "transcription = processor.batch_decode(predicted_ids)[0]\n",
    "print(f\"Transcribed text: {transcription}\")"
   ]
  }
 ],
 "metadata": {
  "kernelspec": {
   "display_name": "Python 3 (ipykernel)",
   "language": "python",
   "name": "python3"
  },
  "language_info": {
   "codemirror_mode": {
    "name": "ipython",
    "version": 3
   },
   "file_extension": ".py",
   "mimetype": "text/x-python",
   "name": "python",
   "nbconvert_exporter": "python",
   "pygments_lexer": "ipython3",
   "version": "3.12.0"
  }
 },
 "nbformat": 4,
 "nbformat_minor": 5
}
